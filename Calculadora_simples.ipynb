{
  "nbformat": 4,
  "nbformat_minor": 0,
  "metadata": {
    "colab": {
      "provenance": [],
      "include_colab_link": true
    },
    "kernelspec": {
      "name": "python3",
      "display_name": "Python 3"
    },
    "language_info": {
      "name": "python"
    }
  },
  "cells": [
    {
      "cell_type": "markdown",
      "metadata": {
        "id": "view-in-github",
        "colab_type": "text"
      },
      "source": [
        "<a href=\"https://colab.research.google.com/github/Lexxsync/meu_script/blob/main/Calculadora_simples.ipynb\" target=\"_parent\"><img src=\"https://colab.research.google.com/assets/colab-badge.svg\" alt=\"Open In Colab\"/></a>"
      ]
    },
    {
      "cell_type": "code",
      "source": [
        "#Solicitando os valores para o usuário\n",
        "\n",
        "num1 = float(input('Digite um valor:'))\n",
        "num2 = float(input('Digite o segundo valor:'))\n",
        "\n",
        "#Condicionais\n",
        "if num1 == 0 or num2 == 0:\n",
        "  print('Não coloque zero!')\n",
        "elif num1 > 1000000 or num2 > 1000000:\n",
        " print('Limite excedido.')\n",
        "else:\n",
        "  #Perguntando ao usuário qual operação ele deseja realizar\n",
        " print('Qual operação você deseja realizar?(digite o número relacionado a operação desejada)')\n",
        " print('Soma: 1')\n",
        " print('Subtração: 2')\n",
        " print('Divisão: 3')\n",
        " print('Multiplicação: 4')\n",
        "\n",
        " op = int(input('Digite aqui:'))\n",
        "\n",
        "\n",
        " if op == 1:\n",
        "  print('Resultado:',num1 + num2)\n",
        " elif op == 2:\n",
        "  print('Resultado:',num1 - num2)\n",
        " elif op == 3:\n",
        "  print('Resultado:',num1 / num2 )\n",
        " elif op == 4:\n",
        "  print('Resultado:',num1 * num2)\n",
        "\n"
      ],
      "metadata": {
        "id": "uRNHWy9ApGzV",
        "colab": {
          "base_uri": "https://localhost:8080/"
        },
        "outputId": "dfb6472c-ebc7-4d06-8722-bbf3c35b881d"
      },
      "execution_count": null,
      "outputs": [
        {
          "output_type": "stream",
          "name": "stdout",
          "text": [
            "Digite um valor:2.3\n",
            "Digite o segundo valor:2.5\n",
            "Qual operação você deseja realizar?(digite o número relacionado a operação desejada)\n",
            "Soma: 1\n",
            "Subtração: 2\n",
            "Divisão: 3\n",
            "Multiplicação: 4\n",
            "Digite aqui:4\n",
            "Resultado: 5.75\n"
          ]
        }
      ]
    },
    {
      "cell_type": "code",
      "source": [],
      "metadata": {
        "id": "TCgUF3raNjQ4"
      },
      "execution_count": null,
      "outputs": []
    }
  ]
}